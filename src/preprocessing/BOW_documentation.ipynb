{
 "cells": [
  {
   "cell_type": "markdown",
   "metadata": {},
   "source": [
    "# Preprocessing \n",
    "\n",
    "### Interface\n",
    "There is an abstract class that defines the interface for the BOW modules. The following methods are available in all implementations:\n",
    "\n",
    "\n"
   ]
  },
  {
   "cell_type": "markdown",
   "metadata": {},
   "source": [
    "#### `stringTransformation(inputString)` \n",
    "This method transforms a string (`inputString`) to tokens. It is used for the BOW.\n",
    "Hence, it should be used for the **query transformation**.\n",
    "\n",
    "*Example:*\n"
   ]
  },
  {
   "cell_type": "code",
   "execution_count": null,
   "metadata": {
    "collapsed": false
   },
   "outputs": [],
   "source": [
    "from PorterFilePreprocessing import PorterFilePreprocessing\n",
    "PorterFilePreprocessing.stringTransformation(\"Hello World! This is my ~~very first~~ query :) \")"
   ]
  },
  {
   "cell_type": "markdown",
   "metadata": {},
   "source": [
    "#### `saveBagOfWords(pathToCorpus, nameOfTargetFile)` \n",
    "This method creates a bag of words out of the documents found in the specified directory (parameter `pathToCorpus`). It must fit the format of the 20-Newsgroup-Data (http://qwone.com/~jason/20Newsgroups/) and should be the path to the training folder. \n",
    "Furthermore a name of the target file must be specified (parameter `nameOfTargetFile`) e.g. `bow.dict`.\n",
    "\n",
    "*Example:*\n",
    "(note that this process might take some time ~3 minutes)"
   ]
  },
  {
   "cell_type": "code",
   "execution_count": null,
   "metadata": {
    "collapsed": false
   },
   "outputs": [],
   "source": [
    "from PorterFilePreprocessing import PorterFilePreprocessing\n",
    "pathToCorpus = \"C:/Users/D060249/Documents/Mannheim/Semester 2/Information Retrieval and Web Search/IR Team Project/20news-bydate-train\"\n",
    "nameOfTargetFile = \"bow.dict\"\n",
    "PorterFilePreprocessing.saveBagOfWords(pathToCorpus, nameOfTargetFile)"
   ]
  },
  {
   "cell_type": "markdown",
   "metadata": {},
   "source": [
    "At the moment, the following implementations are available:\n",
    "- PorterFilePreprocessing"
   ]
  }
 ],
 "metadata": {
  "kernelspec": {
   "display_name": "Python 3",
   "language": "python",
   "name": "python3"
  },
  "language_info": {
   "codemirror_mode": {
    "name": "ipython",
    "version": 3
   },
   "file_extension": ".py",
   "mimetype": "text/x-python",
   "name": "python",
   "nbconvert_exporter": "python",
   "pygments_lexer": "ipython3",
   "version": "3.6.0"
  }
 },
 "nbformat": 4,
 "nbformat_minor": 2
}

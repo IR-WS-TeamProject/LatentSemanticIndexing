{
 "cells": [
  {
   "cell_type": "markdown",
   "metadata": {},
   "source": [
    "# Link Sammlung"
   ]
  },
  {
   "cell_type": "markdown",
   "metadata": {},
   "source": [
    "- Scipy/Numpy  \n",
    "    - Linear Algebra: https://docs.scipy.org/doc/numpy/reference/routines.linalg.html\n",
    "    - Sparse: https://docs.scipy.org/doc/scipy/reference/sparse.html\n",
    "        - Linear Algebra: https://docs.scipy.org/doc/scipy/reference/sparse.linalg.html#module-scipy.sparse.linalg\n",
    "\n",
    "    \n",
    "- Plot\n",
    "     - http://matplotlib.org/users/pyplot_tutorial.html\n",
    "     - Sparse Matrices (COO): http://stackoverflow.com/questions/22961541/python-matplotlib-plot-sparse-matrix-pattern\n",
    "     \n",
    "- Simples Beispiel für TF-IDF + Cosine mit Scikit-Learn (dürfen wir aber wohl nicht verwenden...): http://stackoverflow.com/questions/8897593/similarity-- between-two-text-documents\n",
    "\n",
    "- SVD: \n",
    "     - Scipy SVD and SVD sparse comparison: http://fa.bianp.net/blog/2012/singular-value-decomposition-in-scipy/\n",
    "     - Explanation of parameters: http://www.programcreek.com/python/example/75179/scipy.sparse.linalg.svds\n",
    "     \n",
    "- Microservice: https://tech.zalando.com/blog/crafting-effective-microservices-in-python/?gh_src=4n3gxh1\n",
    "     - (würde ich nicht im jupyter laufen lassen)\n",
    " \n"
   ]
  },
  {
   "cell_type": "markdown",
   "metadata": {},
   "source": [
    "# Coding"
   ]
  },
  {
   "cell_type": "code",
   "execution_count": null,
   "metadata": {
    "collapsed": false
   },
   "outputs": [],
   "source": [
    "#Troubleshooting - get some infos\n",
    "import IPython\n",
    "print(IPython.sys_info())\n",
    "\n",
    "#If you messed up the environment (variables) or it needs to much time: Kernel -> Restart & Clear Output"
   ]
  },
  {
   "cell_type": "markdown",
   "metadata": {},
   "source": [
    "## Imports"
   ]
  },
  {
   "cell_type": "code",
   "execution_count": null,
   "metadata": {
    "collapsed": true
   },
   "outputs": [],
   "source": [
    "#Do imports just once and for all\n",
    "import numpy as np\n",
    "import matplotlib.pyplot as plt\n",
    "from scipy.sparse import coo_matrix\n",
    "from scipy.sparse.linalg import svds\n",
    "\n",
    "#instead of popup, plot images inline\n",
    "%matplotlib inline"
   ]
  },
  {
   "cell_type": "markdown",
   "metadata": {},
   "source": [
    "## Random Matrix + Plot\n"
   ]
  },
  {
   "cell_type": "code",
   "execution_count": null,
   "metadata": {
    "collapsed": false
   },
   "outputs": [],
   "source": [
    "#http://stackoverflow.com/questions/22961541/python-matplotlib-plot-sparse-matrix-pattern\n",
    "\n",
    "#Plotting encapsulated in a function \n",
    "def plot_coo_matrix(m):\n",
    "    if not isinstance(m, coo_matrix):\n",
    "        m = coo_matrix(m)\n",
    "    fig = plt.figure()\n",
    "    ax = fig.add_subplot(111, facecolor='black')\n",
    "    ax.plot(m.col, m.row, 's', color='white', ms=1)\n",
    "    ax.set_xlim(0, m.shape[1])\n",
    "    ax.set_ylim(0, m.shape[0])\n",
    "    ax.set_aspect('equal')\n",
    "    for spine in ax.spines.values():\n",
    "        spine.set_visible(False)\n",
    "    ax.invert_yaxis()\n",
    "    ax.set_aspect('equal')\n",
    "    ax.set_xticks([])\n",
    "    ax.set_yticks([])\n",
    "    return ax\n",
    "\n",
    "\n",
    "shape = (100000, 100000)\n",
    "#create coordinates for values in sparse matrix (arrays of random integers) according to shape\n",
    "rows = np.int_(np.round_(shape[0]*np.random.random(1000)))\n",
    "cols = np.int_(np.round_(shape[1]*np.random.random(1000)))\n",
    "#create values (only 1) (based on structure of row-id array)\n",
    "vals = np.ones_like(rows)\n",
    "#print(vals)\n",
    "\n",
    "m = coo_matrix((vals, (rows, cols)), shape=shape)\n",
    "ax = plot_coo_matrix(m)\n",
    "#ax.figure.show()  - not necessary and inline not supported (use in python scripts)"
   ]
  },
  {
   "cell_type": "markdown",
   "metadata": {},
   "source": [
    "## SVD + Plot"
   ]
  },
  {
   "cell_type": "code",
   "execution_count": null,
   "metadata": {
    "collapsed": false
   },
   "outputs": [],
   "source": [
    "#SVD\n",
    "k = 100\n",
    "\n",
    "U, s, V = svds(m.asfptype(), k=k)"
   ]
  },
  {
   "cell_type": "code",
   "execution_count": null,
   "metadata": {
    "collapsed": false
   },
   "outputs": [],
   "source": [
    "plt.plot(range(1,k+1), s, 'bo')\n",
    "plt.axis([0, 100, 0, 2])"
   ]
  },
  {
   "cell_type": "code",
   "execution_count": null,
   "metadata": {
    "collapsed": true
   },
   "outputs": [],
   "source": []
  }
 ],
 "metadata": {
  "kernelspec": {
   "display_name": "Python 3",
   "language": "python",
   "name": "python3"
  },
  "language_info": {
   "codemirror_mode": {
    "name": "ipython",
    "version": 3
   },
   "file_extension": ".py",
   "mimetype": "text/x-python",
   "name": "python",
   "nbconvert_exporter": "python",
   "pygments_lexer": "ipython3",
   "version": "3.6.0"
  }
 },
 "nbformat": 4,
 "nbformat_minor": 0
}

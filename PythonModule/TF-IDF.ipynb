{
 "cells": [
  {
   "cell_type": "markdown",
   "metadata": {},
   "source": [
    "## Imports"
   ]
  },
  {
   "cell_type": "code",
   "execution_count": 1,
   "metadata": {
    "collapsed": true
   },
   "outputs": [],
   "source": [
    "#Do imports just once and for all\n",
    "import numpy as np\n",
    "import matplotlib.pyplot as plt\n",
    "from scipy.sparse import coo_matrix\n",
    "from scipy.sparse.linalg import svds\n",
    "from scipy.linalg import inv, norm\n",
    "import math\n",
    "\n",
    "\n",
    "import json\n",
    "\n",
    "#instead of popup, plot images inline\n",
    "%matplotlib inline"
   ]
  },
  {
   "cell_type": "markdown",
   "metadata": {
    "collapsed": true
   },
   "source": [
    "# Code"
   ]
  },
  {
   "cell_type": "markdown",
   "metadata": {},
   "source": [
    "## Input"
   ]
  },
  {
   "cell_type": "code",
   "execution_count": 2,
   "metadata": {
    "collapsed": false
   },
   "outputs": [],
   "source": [
    "#Test Daten (dictionary) \n",
    "docs = {    \n",
    "    'file1': ['ein','test','für','Dokument','eins'],    \n",
    "    'file21': ['ein','weiteres','Dokument'],\n",
    "    'file22': ['ein','weiteres','Dokument'],\n",
    "    'file3': ['alle','guten','Dinge','sind','drei'],\n",
    "    'file4': ['ein','test','für','Dokument','drei'], \n",
    "}"
   ]
  },
  {
   "cell_type": "code",
   "execution_count": 26,
   "metadata": {
    "collapsed": false
   },
   "outputs": [
    {
     "data": {
      "text/plain": [
       "{'file1': ['ein', 'test', 'für', 'Dokument', 'eins'],\n",
       " 'file21': ['ein', 'weiteres', 'Dokument'],\n",
       " 'file22': ['ein', 'weiteres', 'Dokument'],\n",
       " 'file3': ['alle', 'guten', 'Dinge', 'sind', 'drei'],\n",
       " 'file4': ['ein', 'test', 'für', 'Dokument', 'drei']}"
      ]
     },
     "execution_count": 26,
     "metadata": {},
     "output_type": "execute_result"
    }
   ],
   "source": [
    "# Testing load and save\n",
    "# - Numpy Arrays: https://docs.scipy.org/doc/numpy/reference/generated/numpy.save.html\n",
    "# - General: \n",
    "#   - Input/Output: https://docs.python.org/3.3/tutorial/inputoutput.html\n",
    "#   - Write JSON Dump: http://stackoverflow.com/questions/12309269/how-do-i-write-json-data-to-a-file-in-python\n",
    "\n",
    "#import json\n",
    "with open('files/test.dict', 'w+') as outfile:\n",
    "    json.dump(docs, outfile)\n",
    "\n",
    "with open('files/test.dict', 'r') as infile:\n",
    "    docs2 = json.load(infile)\n",
    "    \n",
    "docs2"
   ]
  },
  {
   "cell_type": "markdown",
   "metadata": {},
   "source": [
    "## Sparse DTM"
   ]
  },
  {
   "cell_type": "code",
   "execution_count": 3,
   "metadata": {
    "collapsed": false
   },
   "outputs": [],
   "source": [
    "#https://datascience.blog.wzb.eu/2016/06/17/creating-a-sparse-document-term-matrix-for-topic-modeling-via-lda/\n",
    "# -> adapted to fit TermxDoc Matrix without additional transpose at the end\n",
    "\n",
    "#Init Vocabulary (Set)\n",
    "vocab = set()\n",
    "\n",
    "#Init Count of Non-Zero Values\n",
    "n_nonzero = 0\n",
    "\n",
    "#Iterate over documents an create vocabulary\n",
    "for docterms in docs.values():\n",
    "    unique_terms = set(docterms)    # all unique terms of this doc (set of terms)\n",
    "    vocab |= unique_terms           # set union: add unique terms of this doc\n",
    "    n_nonzero += len(unique_terms)  # increase Non-Zero count by adding count of unique terms in this doc\n",
    "    \n",
    "\n",
    "#convert to numpy for processing\n",
    "docpaths = np.array(list(docs.keys())) # keys of dictionary (order of dictionary is used, but this doesn't correspond to order of inserts!)\n",
    "vocab = np.array(list(vocab)) \n",
    "\n",
    "#Array containing sorted indices\n",
    "vocab_sorter = np.argsort(vocab)   \n",
    "\n",
    "#print(vocab_sorter) #sorted indizes \n",
    "#print(vocab[vocab_sorter]) #outputs sorted vocabulary\n",
    "\n",
    "ndocs = len(docpaths)\n",
    "nvocab = len(vocab)\n",
    "\n",
    "#Initialize components of COO-Matrix (values, row indizes, col indizes) with emtpy values (for all non-zero elements)\n",
    "data = np.empty(n_nonzero, dtype=np.float32)     # all non-zero term frequencies at data[i,k]\n",
    "rows = np.empty(n_nonzero, dtype=np.intc)     # row index for [i,k]th data item (ith term freq.)\n",
    "cols = np.empty(n_nonzero, dtype=np.intc)     # column index for [i,k]th data item (kth document)\n",
    "\n",
    "#Init index (w.r.t. position in arrays of sparse COO matrix)\n",
    "ind = 0   \n",
    "global_indices = []\n",
    "# go through all documents with their terms\n",
    "for docpath, terms in docs.items():\n",
    "    # find indices into  such that, if the corresponding elements in  were\n",
    "    # inserted before the indices, the order of  would be preserved\n",
    "    # -> array of indices of  in \n",
    "    term_indices = vocab_sorter[np.searchsorted(vocab, terms, sorter=vocab_sorter)]\n",
    "\n",
    "    # count the unique terms of the document and get their vocabulary indices\n",
    "    uniq_indices, counts = np.unique(term_indices, return_counts=True)\n",
    "    \n",
    "    # add (unique) indices of current doc to a list which is later on used for df\n",
    "    global_indices.extend(uniq_indices)\n",
    "    \n",
    "    n_vals = len(uniq_indices)  # = number of unique terms\n",
    "    ind_end = ind + n_vals  #  to  is the slice that we will fill with data\n",
    "\n",
    "    data[ind:ind_end] = counts                  # save the counts (term frequencies)\n",
    "    rows[ind:ind_end] = uniq_indices            # save the row index: index in \n",
    "    doc_idx = np.where(docpaths == docpath)     # get the document index for the document name\n",
    "    cols[ind:ind_end] = np.repeat(doc_idx, n_vals)  # save it as repeated value\n",
    "\n",
    "    ind = ind_end  # resume with next document -> add data to the end\n",
    "\n",
    "#calculate the term df by counting the occurence of the unqiue indices per document -> result is sorted by index\n",
    "global_unique_indices, global_counts = np.unique(global_indices, return_counts=True)\n",
    "\n",
    "#calculation of idf\n",
    "idf = ndocs/global_counts\n",
    "\n",
    "#select idf according to indices in \"rows\" vector for DTM and multiply it with \"data\"(tf) vector -> tf-idf\n",
    "data = np.multiply(data,idf[rows])\n",
    "\n",
    "#Construct DTM as COO Matrix\n",
    "dtm = coo_matrix((data, (rows, cols)), shape=(nvocab, ndocs), dtype=np.float32)\n",
    "\n",
    "\n"
   ]
  },
  {
   "cell_type": "code",
   "execution_count": 4,
   "metadata": {
    "collapsed": false
   },
   "outputs": [
    {
     "name": "stdout",
     "output_type": "stream",
     "text": [
      "[[ 0.    0.    0.    0.    5.  ]\n",
      " [ 0.    0.    0.    5.    0.  ]\n",
      " [ 2.5   0.    0.    2.5   0.  ]\n",
      " [ 1.25  1.25  1.25  1.25  0.  ]\n",
      " [ 0.    0.    0.    0.    5.  ]\n",
      " [ 2.5   0.    0.    2.5   0.  ]\n",
      " [ 1.25  1.25  1.25  1.25  0.  ]\n",
      " [ 0.    0.    0.    0.    5.  ]\n",
      " [ 0.    0.    0.    0.    5.  ]\n",
      " [ 2.5   0.    0.    0.    2.5 ]\n",
      " [ 0.    2.5   2.5   0.    0.  ]]\n",
      "['guten' 'eins' 'test' 'ein' 'alle' 'für' 'Dokument' 'sind' 'Dinge' 'drei'\n",
      " 'weiteres']\n",
      "['file4' 'file21' 'file22' 'file1' 'file3']\n"
     ]
    }
   ],
   "source": [
    "print(dtm.toarray())\n",
    "print(vocab)\n",
    "print(docpaths)"
   ]
  },
  {
   "cell_type": "code",
   "execution_count": 5,
   "metadata": {
    "collapsed": false
   },
   "outputs": [],
   "source": [
    "k = 4\n",
    "\n",
    "U, s, V = svds(dtm.asfptype(), k=k)\n",
    "\n"
   ]
  },
  {
   "cell_type": "code",
   "execution_count": 6,
   "metadata": {
    "collapsed": false
   },
   "outputs": [],
   "source": [
    "vec = dtm.toarray()[:,0]"
   ]
  },
  {
   "cell_type": "code",
   "execution_count": 7,
   "metadata": {
    "collapsed": false
   },
   "outputs": [],
   "source": [
    "dv = (inv(np.diag(s)).dot(U.transpose())).dot(vec)"
   ]
  },
  {
   "cell_type": "code",
   "execution_count": 19,
   "metadata": {
    "collapsed": false
   },
   "outputs": [],
   "source": [
    "sim = (V.transpose().dot(dv))/(np.sqrt(np.diag(V.transpose().dot(V)))*norm(dv))"
   ]
  },
  {
   "cell_type": "code",
   "execution_count": 20,
   "metadata": {
    "collapsed": false
   },
   "outputs": [
    {
     "data": {
      "text/plain": [
       "array([  1.00000012e+00,   5.26835713e-08,   5.26835677e-08,\n",
       "        -1.78813963e-07,   5.96046519e-08], dtype=float32)"
      ]
     },
     "execution_count": 20,
     "metadata": {},
     "output_type": "execute_result"
    }
   ],
   "source": [
    "sim"
   ]
  },
  {
   "cell_type": "code",
   "execution_count": 35,
   "metadata": {
    "collapsed": false
   },
   "outputs": [],
   "source": [
    "t = np.vstack([docpaths,sim])"
   ]
  },
  {
   "cell_type": "code",
   "execution_count": 38,
   "metadata": {
    "collapsed": false
   },
   "outputs": [
    {
     "data": {
      "text/plain": [
       "array([  1.00000012e+00,   5.96046519e-08,   5.26835713e-08,\n",
       "         5.26835677e-08,  -1.78813963e-07], dtype=float32)"
      ]
     },
     "execution_count": 38,
     "metadata": {},
     "output_type": "execute_result"
    }
   ],
   "source": [
    "sorter = np.argsort(sim)[::-1]\n",
    "sim[sorter]"
   ]
  },
  {
   "cell_type": "markdown",
   "metadata": {},
   "source": [
    "## TESTS"
   ]
  },
  {
   "cell_type": "code",
   "execution_count": 50,
   "metadata": {
    "collapsed": true
   },
   "outputs": [],
   "source": [
    "from scipy.linalg import svd, inv\n"
   ]
  },
  {
   "cell_type": "code",
   "execution_count": 39,
   "metadata": {
    "collapsed": false
   },
   "outputs": [],
   "source": [
    "U, s, V = svd(dtm.todense())"
   ]
  },
  {
   "cell_type": "code",
   "execution_count": 40,
   "metadata": {
    "collapsed": false
   },
   "outputs": [
    {
     "data": {
      "text/plain": [
       "array([  1.03311806e+01,   7.10256338e+00,   4.25720739e+00,\n",
       "         3.49234796e+00,   2.52165080e-07], dtype=float32)"
      ]
     },
     "execution_count": 40,
     "metadata": {},
     "output_type": "execute_result"
    }
   ],
   "source": [
    "s"
   ]
  },
  {
   "cell_type": "code",
   "execution_count": 44,
   "metadata": {
    "collapsed": false
   },
   "outputs": [
    {
     "data": {
      "text/plain": [
       "[1, 4, 0, 10.331181]"
      ]
     },
     "execution_count": 44,
     "metadata": {},
     "output_type": "execute_result"
    },
    {
     "data": {
      "image/png": "[encoded data removed]",
      "text/plain": [
       "<matplotlib.figure.Figure at 0x183e1d0b0b8>"
      ]
     },
     "metadata": {},
     "output_type": "display_data"
    }
   ],
   "source": [
    "plt.plot(range(1,k+2),s, 'bo')\n",
    "plt.axis([1, k, 0, s.max()])"
   ]
  },
  {
   "cell_type": "code",
   "execution_count": 51,
   "metadata": {
    "collapsed": false
   },
   "outputs": [
    {
     "data": {
      "text/plain": [
       "array([[  9.67943594e-02,   0.00000000e+00,   0.00000000e+00,\n",
       "          0.00000000e+00,  -0.00000000e+00],\n",
       "       [  0.00000000e+00,   1.40794232e-01,   0.00000000e+00,\n",
       "          0.00000000e+00,  -0.00000000e+00],\n",
       "       [  0.00000000e+00,   0.00000000e+00,   2.34895766e-01,\n",
       "          0.00000000e+00,  -0.00000000e+00],\n",
       "       [  0.00000000e+00,   0.00000000e+00,   0.00000000e+00,\n",
       "          2.86340296e-01,  -0.00000000e+00],\n",
       "       [  0.00000000e+00,   0.00000000e+00,   0.00000000e+00,\n",
       "          0.00000000e+00,   3.96565625e+06]], dtype=float32)"
      ]
     },
     "execution_count": 51,
     "metadata": {},
     "output_type": "execute_result"
    }
   ],
   "source": [
    "inv(np.diag(s)) "
   ]
  },
  {
   "cell_type": "code",
   "execution_count": 61,
   "metadata": {
    "collapsed": false
   },
   "outputs": [
    {
     "ename": "ValueError",
     "evalue": "shapes (11,11) and (5,5) not aligned: 11 (dim 1) != 5 (dim 0)",
     "output_type": "error",
     "traceback": [
      "\u001b[1;31m---------------------------------------------------------------------------\u001b[0m",
      "\u001b[1;31mValueError\u001b[0m                                Traceback (most recent call last)",
      "\u001b[1;32m<ipython-input-61-739097bdc783>\u001b[0m in \u001b[0;36m<module>\u001b[1;34m()\u001b[0m\n\u001b[1;32m----> 1\u001b[1;33m \u001b[0mU\u001b[0m\u001b[1;33m.\u001b[0m\u001b[0mdot\u001b[0m\u001b[1;33m(\u001b[0m\u001b[0mnp\u001b[0m\u001b[1;33m.\u001b[0m\u001b[0mdiag\u001b[0m\u001b[1;33m(\u001b[0m\u001b[0ms\u001b[0m\u001b[1;33m)\u001b[0m\u001b[1;33m)\u001b[0m\u001b[1;33m.\u001b[0m\u001b[0mdot\u001b[0m\u001b[1;33m(\u001b[0m\u001b[0mV\u001b[0m\u001b[1;33m.\u001b[0m\u001b[0mtranspose\u001b[0m\u001b[1;33m(\u001b[0m\u001b[1;33m)\u001b[0m\u001b[1;33m)\u001b[0m\u001b[1;33m\u001b[0m\u001b[0m\n\u001b[0m",
      "\u001b[1;31mValueError\u001b[0m: shapes (11,11) and (5,5) not aligned: 11 (dim 1) != 5 (dim 0)"
     ]
    }
   ],
   "source": [
    "U.dot(np.diag(s)).dot(V.transpose())"
   ]
  },
  {
   "cell_type": "code",
   "execution_count": 64,
   "metadata": {
    "collapsed": false
   },
   "outputs": [
    {
     "data": {
      "text/plain": [
       "array([[ -3.39647196e-03,  -1.85402334e-02,  -7.70835951e-02,\n",
       "         -3.39643238e-03,  -9.96840537e-01],\n",
       "       [  1.31829843e-01,   8.53426278e-01,   4.83705044e-01,\n",
       "          1.31829888e-01,  -5.41749895e-02],\n",
       "       [ -6.63692176e-01,   3.01057965e-01,  -1.68069676e-01,\n",
       "         -6.63691998e-01,   1.19197182e-02],\n",
       "       [ -2.05236614e-01,  -4.25069571e-01,   8.55476379e-01,\n",
       "         -2.05236524e-01,  -5.68477400e-02],\n",
       "       [ -7.07106709e-01,   4.77132787e-08,   7.77709914e-08,\n",
       "          7.07106948e-01,   8.41412717e-09]], dtype=float32)"
      ]
     },
     "execution_count": 64,
     "metadata": {},
     "output_type": "execute_result"
    }
   ],
   "source": [
    "V"
   ]
  },
  {
   "cell_type": "code",
   "execution_count": 63,
   "metadata": {
    "collapsed": false
   },
   "outputs": [
    {
     "data": {
      "text/plain": [
       "array([[  1.03311806e+01,   0.00000000e+00,   0.00000000e+00,\n",
       "          0.00000000e+00,   0.00000000e+00],\n",
       "       [  0.00000000e+00,   7.10256338e+00,   0.00000000e+00,\n",
       "          0.00000000e+00,   0.00000000e+00],\n",
       "       [  0.00000000e+00,   0.00000000e+00,   4.25720739e+00,\n",
       "          0.00000000e+00,   0.00000000e+00],\n",
       "       [  0.00000000e+00,   0.00000000e+00,   0.00000000e+00,\n",
       "          3.49234796e+00,   0.00000000e+00],\n",
       "       [  0.00000000e+00,   0.00000000e+00,   0.00000000e+00,\n",
       "          0.00000000e+00,   2.52165080e-07]], dtype=float32)"
      ]
     },
     "execution_count": 63,
     "metadata": {},
     "output_type": "execute_result"
    }
   ],
   "source": [
    "np.diag(s)"
   ]
  },
  {
   "cell_type": "code",
   "execution_count": null,
   "metadata": {
    "collapsed": true
   },
   "outputs": [],
   "source": []
  }
 ],
 "metadata": {
  "kernelspec": {
   "display_name": "Python 3",
   "language": "python",
   "name": "python3"
  },
  "language_info": {
   "codemirror_mode": {
    "name": "ipython",
    "version": 3
   },
   "file_extension": ".py",
   "mimetype": "text/x-python",
   "name": "python",
   "nbconvert_exporter": "python",
   "pygments_lexer": "ipython3",
   "version": "3.5.2"
  }
 },
 "nbformat": 4,
 "nbformat_minor": 2
}
